{
 "cells": [
  {
   "cell_type": "code",
   "execution_count": 45,
   "metadata": {},
   "outputs": [
    {
     "name": "stdout",
     "output_type": "stream",
     "text": [
      "Successfully Connected\n"
     ]
    }
   ],
   "source": [
    "##connection \n",
    "import mysql.connector as conn \n",
    "username = 'root'\n",
    "password = 'Newvision@143'\n",
    "database = ''\n",
    "try :\n",
    "    connection = conn.connect(username =username,password=password,database =database)\n",
    "    print(\"Successfully Connected\")\n",
    "except conn.Error as er :\n",
    "    if er.errno == 1045:\n",
    "        print(f'Access denied for user {username}')\n",
    "    elif er.errno == 1049:\n",
    "        print(f\"Unknown database {database}\")\n",
    "    else :\n",
    "        print(er)\n",
    "     "
   ]
  },
  {
   "cell_type": "code",
   "execution_count": 46,
   "metadata": {},
   "outputs": [],
   "source": [
    "##Cursor\n",
    "cursor = connection.cursor()"
   ]
  },
  {
   "cell_type": "code",
   "execution_count": 47,
   "metadata": {},
   "outputs": [
    {
     "name": "stdout",
     "output_type": "stream",
     "text": [
      "('employees',)\n",
      "('information_schema',)\n",
      "('jewelrystore_db',)\n",
      "('mysql',)\n",
      "('Ourstore',)\n",
      "('performance_schema',)\n",
      "('sales',)\n",
      "('Shop',)\n",
      "('sys',)\n"
     ]
    }
   ],
   "source": [
    "##Show Databases\n",
    "cursor.execute(\"show databases\")\n",
    "for result in cursor:\n",
    "    print(result)"
   ]
  },
  {
   "cell_type": "code",
   "execution_count": 48,
   "metadata": {},
   "outputs": [],
   "source": [
    "##use database\n",
    "cursor.execute(\"use Ourstore\")"
   ]
  },
  {
   "cell_type": "code",
   "execution_count": 49,
   "metadata": {},
   "outputs": [
    {
     "name": "stdout",
     "output_type": "stream",
     "text": [
      "('Bookings',)\n",
      "('Menuitems',)\n",
      "('Menus',)\n",
      "('Orders',)\n"
     ]
    }
   ],
   "source": [
    "##show tables \n",
    "cursor.execute(\"show tables\")\n",
    "for table in cursor:\n",
    "    print(table)"
   ]
  },
  {
   "cell_type": "markdown",
   "metadata": {},
   "source": [
    "Task 1:\n",
    "\n",
    "Little Lemon need you to help them query their database to find out how many bookings they have today for table number 12. They also need to know the names of the guests booked for table 12 and who their servers are. These records are located within the following tables in the database:\n",
    "\n",
    "TableNo,\n",
    "\n",
    "GuestFirstName,\n",
    "\n",
    "GuestLastName,\n",
    "\n",
    "and EmployeeID.\n"
   ]
  },
  {
   "cell_type": "code",
   "execution_count": 50,
   "metadata": {},
   "outputs": [
    {
     "name": "stdout",
     "output_type": "stream",
     "text": [
      "('TableNo', 'GuestFirstName', 'GuestLastName', 'EmployeeID')\n",
      "(12, 'Anna', 'Iversen', 1)\n",
      "(12, 'Joakim', 'Iversen', 1)\n"
     ]
    }
   ],
   "source": [
    "Query = \"\"\"SELECT TableNo, \n",
    "GuestFirstName, GuestLastName, EmployeeID  \n",
    "FROM Bookings \n",
    "WHERE TableNo= 12;\"\"\"\n",
    "cursor.execute(Query)\n",
    "results = cursor.fetchall()\n",
    "cols = cursor.column_names\n",
    "print(cols)\n",
    "for result in results:\n",
    "    print(result)"
   ]
  },
  {
   "cell_type": "markdown",
   "metadata": {},
   "source": [
    "Task 2:\n",
    "\n",
    "Little Lemon want to send a coupon to all guests who spent more than $40 at the restaurant today. Help Little Lemon to filter and sort the records of all guests who qualify for coupons. Complete this task using the following steps: "
   ]
  },
  {
   "cell_type": "code",
   "execution_count": 51,
   "metadata": {},
   "outputs": [
    {
     "name": "stdout",
     "output_type": "stream",
     "text": [
      "('BookingId', 'BillAmount')\n",
      "(1, 86)\n",
      "(5, 43)\n"
     ]
    }
   ],
   "source": [
    "Query = \"\"\" select \n",
    "\tBookingId,BillAmount \n",
    "from Orders where BillAmount > 40; \"\"\"\n",
    "cursor.execute(Query)\n",
    "rows  = cursor.fetchall()\n",
    "cols = cursor.column_names\n",
    "print(cols)\n",
    "for row in rows:\n",
    "    print(row) "
   ]
  },
  {
   "cell_type": "code",
   "execution_count": 52,
   "metadata": {},
   "outputs": [
    {
     "name": "stdout",
     "output_type": "stream",
     "text": [
      "('ItemId', 'Name', 'Type', 'Price')\n",
      "(12, 'Cheesecake', 'Desserts', 4)\n",
      "(1, 'Olives', 'Starters', 5)\n",
      "(2, 'Flatbread', 'Starters', 5)\n",
      "(6, 'Hummus', 'Starters', 5)\n",
      "(11, 'Ice cream', 'Desserts', 6)\n",
      "(5, 'Falafel', 'Starters', 7)\n",
      "(10, 'Greek yoghurt', 'Desserts', 7)\n",
      "(3, 'Minestrone', 'Starters', 8)\n",
      "(4, 'Tomato bread', 'Starters', 8)\n"
     ]
    }
   ],
   "source": [
    "Query = \"\"\" select * from MenuItems \n",
    "where Type in ('Starters' , 'Desserts')\n",
    "order by Price asc; \"\"\"\n",
    "cursor.execute(Query)\n",
    "rows = cursor.fetchall()\n",
    "col = cursor.column_names\n",
    "print(col)\n",
    "for row in rows :\n",
    "    print(row)"
   ]
  },
  {
   "cell_type": "code",
   "execution_count": 53,
   "metadata": {},
   "outputs": [
    {
     "name": "stdout",
     "output_type": "stream",
     "text": [
      "Cursor connetion is closed\n",
      "Mysql Connection is closed\n"
     ]
    }
   ],
   "source": [
    "#let's close the connection \n",
    "if connection.is_connected:\n",
    "    cursor.close()\n",
    "    print(\"Cursor connetion is closed\")\n",
    "    connection.close()\n",
    "    print(\"Mysql Connection is closed\")\n",
    "else :\n",
    "    print(\"Conection is already closed.\")"
   ]
  }
 ],
 "metadata": {
  "interpreter": {
   "hash": "c6e4e9f98eb68ad3b7c296f83d20e6de614cb42e90992a65aa266555a3137d0d"
  },
  "kernelspec": {
   "display_name": "Python 3.9.7 ('base')",
   "language": "python",
   "name": "python3"
  },
  "language_info": {
   "codemirror_mode": {
    "name": "ipython",
    "version": 3
   },
   "file_extension": ".py",
   "mimetype": "text/x-python",
   "name": "python",
   "nbconvert_exporter": "python",
   "pygments_lexer": "ipython3",
   "version": "3.9.7"
  },
  "orig_nbformat": 4
 },
 "nbformat": 4,
 "nbformat_minor": 2
}

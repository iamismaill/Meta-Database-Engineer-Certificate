{
 "cells": [
  {
   "cell_type": "code",
   "execution_count": 1,
   "metadata": {},
   "outputs": [
    {
     "name": "stdout",
     "output_type": "stream",
     "text": [
      "Successfully Connected\n"
     ]
    }
   ],
   "source": [
    "import mysql.connector as conn\n",
    "user_name = 'root'\n",
    "password = 'Newvision@143'\n",
    "try:\n",
    "    connection = conn.connect(username =user_name,password =password)\n",
    "    print(\"Successfully Connected\")\n",
    "except conn.Error as e:\n",
    "    print(e.errno)"
   ]
  },
  {
   "cell_type": "code",
   "execution_count": 2,
   "metadata": {},
   "outputs": [],
   "source": [
    "cursor = connection.cursor()"
   ]
  },
  {
   "cell_type": "code",
   "execution_count": 3,
   "metadata": {},
   "outputs": [],
   "source": [
    "##use databse \n",
    "cursor.execute(\"use Ourstore\")"
   ]
  },
  {
   "cell_type": "markdown",
   "metadata": {},
   "source": [
    "Task 1:\n",
    "\n",
    "Little Lemon is running a marketing campaign this month. They need to issue a discount coupon to the top spender on daily bases. \n",
    "\n",
    "Create a stored procedure TopSpender that can retrieve the following:\n",
    "\n",
    "the booking ID, \n",
    "\n",
    "guest’s full name, \n",
    "\n",
    "and the bill amount of the top spender at closing. \n",
    "\n",
    "Call the procedure and print the results.  "
   ]
  },
  {
   "cell_type": "code",
   "execution_count": 4,
   "metadata": {},
   "outputs": [],
   "source": [
    "stored_procedure =\"\"\"\n",
    "create procedure TopSpender() \n",
    "Begin \n",
    "select \n",
    "\tb.BookingId,Concat(b.GuestFirstName,' ' ,b.GuestLastName ) as full_name\n",
    "    ,o.BillAmount\n",
    "from Bookings b inner join Orders o\n",
    "on b.BookingId = o.BookingId \n",
    "Order by BillAmount desc limit 1; \n",
    "End\n",
    "\"\"\"\n",
    "cursor.execute(stored_procedure)"
   ]
  },
  {
   "cell_type": "code",
   "execution_count": 7,
   "metadata": {},
   "outputs": [
    {
     "name": "stdout",
     "output_type": "stream",
     "text": [
      "['BookingId', 'full_name', 'BillAmount']\n",
      "(1, 'Anna Iversen', 86)\n"
     ]
    }
   ],
   "source": [
    "##Call the procedure\n",
    "cursor.callproc(\"TopSpender\")\n",
    "##retrieve results \n",
    "results = next(cursor.stored_results())\n",
    "data = results.fetchall()\n",
    "\n",
    "for column_id in cursor.stored_results():\n",
    "    columns = [ column[0] for column in column_id.description ]\n",
    "print(columns)\n",
    "for data in data:\n",
    "    print(data)"
   ]
  },
  {
   "cell_type": "markdown",
   "metadata": {},
   "source": [
    "Task 2:\n",
    "\n",
    "Help Little Lemon to retrieve all those bookings where the guests did not appear today. How will you implement this task using a stored procedure? Use `NoArrival` as a name for your stored procedure.  \n",
    "\n",
    "TIP: Target the `Orders` and the `Bookings` tables, join them on `BookingID` and retrieve the records with a `NULL` value in the bill amount. Create a stored procedure, call it by its name using python and print the results."
   ]
  },
  {
   "cell_type": "code",
   "execution_count": 9,
   "metadata": {},
   "outputs": [],
   "source": [
    "procedure_query=\"\"\"\n",
    "CREATE PROCEDURE NoArrival()\n",
    "\n",
    "BEGIN\n",
    "\n",
    "SELECT bookings.BookingID, \n",
    "Orders.BillAmount \n",
    "FROM Bookings\n",
    "LEFT JOIN\n",
    "Orders ON Bookings.BookingID=Orders.BookingID\n",
    "WHERE BillAmount IS NULL;\n",
    "\n",
    "END\n",
    "\n",
    "\"\"\"\n",
    "cursor.execute(procedure_query)\n"
   ]
  },
  {
   "cell_type": "code",
   "execution_count": 11,
   "metadata": {},
   "outputs": [
    {
     "name": "stdout",
     "output_type": "stream",
     "text": [
      "['BookingID', 'BillAmount']\n",
      "(6, None)\n"
     ]
    }
   ],
   "source": [
    "# Execute the query \n",
    "\n",
    "\n",
    "cursor.callproc(\"NoArrival\")\n",
    "\n",
    "\n",
    "results = next( cursor.stored_results() )\n",
    "dataset = results.fetchall()\n",
    "\n",
    "for column_id in cursor.stored_results():\n",
    "    columns = [ column[0] for column in column_id.description ]\n",
    "\n",
    "\n",
    "print(columns)\n",
    "\n",
    "\n",
    "for data in dataset:\n",
    "    print(data)"
   ]
  },
  {
   "cell_type": "markdown",
   "metadata": {},
   "source": [
    "Task 3:\n",
    "\n",
    "It is very important for little lemon to keep track of the status of each guest’s order and display it on the screen to keep their guests informed.  \n",
    "\n",
    "This is how they categorize the orders: \n",
    "\n",
    "* If not assigned to any employee, the status is `In Queue` \n",
    "* If assigned to the employees with IDs 4 and 5, the status is `Preparing Order` \n",
    "* If assigned to the employees with IDs 1, 2, and 3, the status is `Order Served` \n",
    "\n",
    "Create a stored procedure named `OrderStatus` for the above task and call to check if everything is working.  "
   ]
  },
  {
   "cell_type": "code",
   "execution_count": 12,
   "metadata": {},
   "outputs": [
    {
     "name": "stdout",
     "output_type": "stream",
     "text": [
      "['bookingID', 'Status']\n",
      "(1, 'Order Served')\n",
      "(2, 'Order Served')\n",
      "(3, 'Order Served')\n",
      "(4, 'Preparing Order')\n",
      "(5, 'Order Served')\n",
      "(6, 'Preparing Order')\n"
     ]
    }
   ],
   "source": [
    "stored_procedure_query=\"\"\"\n",
    "CREATE PROCEDURE OrderStatus()\n",
    "\n",
    "BEGIN\n",
    "\n",
    "SELECT bookingID, \n",
    "CASE\n",
    "WHEN employeeID IN (1,2,3) THEN \"Order Served\" \n",
    "WHEN employeeID IN (4,5) THEN \"Preparing Order\" \n",
    "ELSE \"In Queue\" \n",
    "END AS Status\n",
    "FROM Bookings;\n",
    "\n",
    "END\n",
    "\n",
    "\"\"\"\n",
    "cursor.execute(stored_procedure_query)\n",
    "cursor.callproc(\"OrderStatus\")\n",
    "results = next( cursor.stored_results() )\n",
    "dataset = results.fetchall() \n",
    "for column_id in cursor.stored_results():\n",
    "    columns = [ column[0] for column in column_id.description ]\n",
    "print(columns)\n",
    "for data in dataset:\n",
    "    print(data)"
   ]
  }
 ],
 "metadata": {
  "interpreter": {
   "hash": "c6e4e9f98eb68ad3b7c296f83d20e6de614cb42e90992a65aa266555a3137d0d"
  },
  "kernelspec": {
   "display_name": "Python 3.9.7 ('base')",
   "language": "python",
   "name": "python3"
  },
  "language_info": {
   "codemirror_mode": {
    "name": "ipython",
    "version": 3
   },
   "file_extension": ".py",
   "mimetype": "text/x-python",
   "name": "python",
   "nbconvert_exporter": "python",
   "pygments_lexer": "ipython3",
   "version": "3.9.7"
  },
  "orig_nbformat": 4
 },
 "nbformat": 4,
 "nbformat_minor": 2
}

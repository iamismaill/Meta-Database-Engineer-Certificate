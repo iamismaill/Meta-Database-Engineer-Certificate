{
 "cells": [
  {
   "cell_type": "code",
   "execution_count": 50,
   "metadata": {},
   "outputs": [
    {
     "name": "stdout",
     "output_type": "stream",
     "text": [
      "Successfully Connected\n"
     ]
    }
   ],
   "source": [
    "##connection \n",
    "import mysql.connector as conn \n",
    "username = 'root'\n",
    "password = 'Newvision@143'\n",
    "database = ''\n",
    "try :\n",
    "    connection = conn.connect(username =username,password=password,database =database)\n",
    "    print(\"Successfully Connected\")\n",
    "except conn.Error as er :\n",
    "    if er.errno == 1045:\n",
    "        print(f'Access denied for user {username}')\n",
    "    elif er.errno == 1049:\n",
    "        print(f\"Unknown database {database}\")\n",
    "    else :\n",
    "        print(er)\n",
    "     "
   ]
  },
  {
   "cell_type": "code",
   "execution_count": 51,
   "metadata": {},
   "outputs": [],
   "source": [
    "cursor = connection.cursor()"
   ]
  },
  {
   "cell_type": "code",
   "execution_count": 18,
   "metadata": {},
   "outputs": [],
   "source": [
    "##Creating Database\n",
    "create_database = \"\"\"Create database Ourstore\"\"\"\n",
    "cursor.execute(create_database)"
   ]
  },
  {
   "cell_type": "code",
   "execution_count": 42,
   "metadata": {},
   "outputs": [
    {
     "name": "stdout",
     "output_type": "stream",
     "text": [
      "('employees',)\n",
      "('information_schema',)\n",
      "('jewelrystore_db',)\n",
      "('little_lemon',)\n",
      "('mysql',)\n",
      "('Ourstore',)\n",
      "('performance_schema',)\n",
      "('sales',)\n",
      "('Shop',)\n",
      "('sys',)\n"
     ]
    }
   ],
   "source": [
    "cursor.execute(\"show databases\")\n",
    "for datbase in cursor:\n",
    "    print(datbase)"
   ]
  },
  {
   "cell_type": "code",
   "execution_count": 52,
   "metadata": {},
   "outputs": [],
   "source": [
    "##use database\n",
    "use_database ='use Ourstore '\n",
    "cursor.execute(use_database)"
   ]
  },
  {
   "cell_type": "code",
   "execution_count": 21,
   "metadata": {},
   "outputs": [],
   "source": [
    "##Create Menu table\n",
    "create_menu_table = \"\"\" Create Table Menuitems (\n",
    "    ItemId INT AUTO_INCREMENT,\n",
    "    Name Varchar(200),\n",
    "    Type Varchar(100),\n",
    "    Price INT,\n",
    "    Primary Key (ItemId)\n",
    ");\"\"\"\n",
    "cursor.execute(create_menu_table)"
   ]
  },
  {
   "cell_type": "code",
   "execution_count": 22,
   "metadata": {},
   "outputs": [
    {
     "name": "stdout",
     "output_type": "stream",
     "text": [
      "('Menuitems',)\n"
     ]
    }
   ],
   "source": [
    "##Show tables\n",
    "cursor.execute(\"show tables\")\n",
    "for table in cursor:\n",
    "    print(table)"
   ]
  },
  {
   "cell_type": "code",
   "execution_count": 23,
   "metadata": {},
   "outputs": [],
   "source": [
    "##Menu Table\n",
    "create_menu_table = \"\"\" Create Table Menus(\n",
    "    MenuId INT,\n",
    "    ItemID INT,\n",
    "    Cuisine Varchar(100),\n",
    "    Primary Key(MenuId,ItemID)\n",
    ");\n",
    "\"\"\"\n",
    "cursor.execute(create_menu_table)"
   ]
  },
  {
   "cell_type": "code",
   "execution_count": 24,
   "metadata": {},
   "outputs": [],
   "source": [
    "## Booking Table\n",
    "create_booking_table = \"\"\"CREATE TABLE Bookings (\n",
    "BookingID INT AUTO_INCREMENT,\n",
    "TableNo INT,\n",
    "GuestFirstName VARCHAR(100) NOT NULL,\n",
    "GuestLastName VARCHAR(100) NOT NULL,\n",
    "BookingSlot TIME NOT NULL,\n",
    "EmployeeID INT,\n",
    "PRIMARY KEY (BookingID)\n",
    ");\"\"\"\n",
    "cursor.execute(create_booking_table)"
   ]
  },
  {
   "cell_type": "code",
   "execution_count": 25,
   "metadata": {},
   "outputs": [],
   "source": [
    "#Orders Table\n",
    "create_orders_table = \"\"\"CREATE TABLE Orders (\n",
    "OrderID INT,\n",
    "TableNo INT,\n",
    "MenuID INT,\n",
    "BookingID INT,\n",
    "BillAmount INT,\n",
    "Quantity INT,\n",
    "PRIMARY KEY (OrderID,TableNo)\n",
    ");\"\"\"\n",
    "cursor.execute(create_orders_table)"
   ]
  },
  {
   "cell_type": "code",
   "execution_count": 26,
   "metadata": {},
   "outputs": [
    {
     "name": "stdout",
     "output_type": "stream",
     "text": [
      "('Bookings',)\n",
      "('Menuitems',)\n",
      "('Menus',)\n",
      "('Orders',)\n"
     ]
    }
   ],
   "source": [
    "##Show All Tables\n",
    "\n",
    "cursor.execute(\"Show tables\")\n",
    "for table in cursor:\n",
    "    print(table)"
   ]
  },
  {
   "cell_type": "code",
   "execution_count": 13,
   "metadata": {},
   "outputs": [
    {
     "name": "stdout",
     "output_type": "stream",
     "text": [
      "('BookingID', b'int', 'NO', 'PRI', None, 'auto_increment')\n",
      "('TableNo', b'int', 'YES', '', None, '')\n",
      "('GuestFirstName', b'varchar(100)', 'NO', '', None, '')\n",
      "('GuestLastName', b'varchar(100)', 'NO', '', None, '')\n",
      "('BookingSlot', b'time', 'NO', '', None, '')\n",
      "('EmployeeID', b'int', 'YES', '', None, '')\n"
     ]
    }
   ],
   "source": [
    "table_name = 'Bookings'\n",
    "query = f\"Show COLUMNS from {table_name}\"\n",
    "cursor.execute(query)\n",
    "columns = cursor.fetchall()\n",
    "\n",
    "for column in columns:\n",
    "    print(column)"
   ]
  },
  {
   "cell_type": "code",
   "execution_count": 27,
   "metadata": {},
   "outputs": [
    {
     "name": "stdout",
     "output_type": "stream",
     "text": [
      "Inserting data in Booking table\n",
      "Total inserted rows 6\n"
     ]
    }
   ],
   "source": [
    "insert_bookings=\"\"\"\n",
    "INSERT INTO Bookings (BookingID, TableNo, GuestFirstName, \n",
    "GuestLastName, BookingSlot, EmployeeID)\n",
    "VALUES\n",
    "(1,12,'Anna','Iversen','19:00:00',1),\n",
    "(2, 12, 'Joakim', 'Iversen', '19:00:00', 1),\n",
    "(3, 19, 'Vanessa', 'McCarthy', '15:00:00', 3),\n",
    "(4, 15, 'Marco\n",
    "s', 'Romero', '17:30:00', 4),\n",
    "(5, 5, 'Hiroki', 'Yamane', '18:30:00', 2),\n",
    "(6, 8, 'Diana', 'Pinto', '20:00:00', 5);\"\"\"\n",
    "print(\"Inserting data in Booking table\")\n",
    "cursor.execute(insert_bookings)\n",
    "print(\"Total inserted rows\",cursor.rowcount)\n",
    "connection.commit()\n",
    " "
   ]
  },
  {
   "cell_type": "code",
   "execution_count": 28,
   "metadata": {},
   "outputs": [
    {
     "name": "stdout",
     "output_type": "stream",
     "text": [
      "(1, 12, 'Anna', 'Iversen', datetime.timedelta(seconds=68400), 1)\n",
      "(2, 12, 'Joakim', 'Iversen', datetime.timedelta(seconds=68400), 1)\n",
      "(3, 19, 'Vanessa', 'McCarthy', datetime.timedelta(seconds=54000), 3)\n",
      "(4, 15, 'Marco\\ns', 'Romero', datetime.timedelta(seconds=63000), 4)\n",
      "(5, 5, 'Hiroki', 'Yamane', datetime.timedelta(seconds=66600), 2)\n",
      "(6, 8, 'Diana', 'Pinto', datetime.timedelta(seconds=72000), 5)\n"
     ]
    }
   ],
   "source": [
    "##select data from inser_booking \n",
    "\n",
    "cursor.execute(\"Select * from Bookings\")\n",
    "result = cursor.fetchall()\n",
    "for rows in result:\n",
    "    print(rows)\n"
   ]
  },
  {
   "cell_type": "code",
   "execution_count": 29,
   "metadata": {},
   "outputs": [
    {
     "name": "stdout",
     "output_type": "stream",
     "text": [
      "Insert data in MenuItems table\n",
      "Total inserted rows 17\n"
     ]
    }
   ],
   "source": [
    "insert_menuitmes=\"\"\"\n",
    "INSERT INTO MenuItems (ItemID, Name, Type, Price)\n",
    "VALUES\n",
    "(1,'Olives','Starters',5),\n",
    "(2,'Flatbread','Starters', 5),\n",
    "(3, 'Minestrone', 'Starters', 8),\n",
    "(4, 'Tomato bread','Starters', 8),\n",
    "(5, 'Falafel', 'Starters', 7),\n",
    "(6, 'Hummus', 'Starters', 5),\n",
    "(7, 'Greek salad', 'Main Courses', 15),\n",
    "(8, 'Bean soup', 'Main Courses', 12),\n",
    "(9, 'Pizza', 'Main Courses', 15),\n",
    "(10,'Greek yoghurt','Desserts', 7),\n",
    "(11, 'Ice cream', 'Desserts', 6),\n",
    "(12, 'Cheesecake', 'Desserts', 4),\n",
    "(13, 'Athens White wine', 'Drinks', 25),\n",
    "(14, 'Corfu Red Wine', 'Drinks', 30),\n",
    "(15, 'Turkish Coffee', 'Drinks', 10),\n",
    "(16, 'Turkish Coffee', 'Drinks', 10),\n",
    "(17, 'Kabasa', 'Main Courses', 17);\"\"\"\n",
    "print(\"Insert data in MenuItems table\")\n",
    "cursor.execute(insert_menuitmes)\n",
    "connection.commit()\n",
    "print(\"Total inserted rows\",cursor.rowcount)"
   ]
  },
  {
   "cell_type": "code",
   "execution_count": 30,
   "metadata": {},
   "outputs": [
    {
     "name": "stdout",
     "output_type": "stream",
     "text": [
      "(1, 'Olives', 'Starters', 5)\n",
      "(2, 'Flatbread', 'Starters', 5)\n",
      "(3, 'Minestrone', 'Starters', 8)\n",
      "(4, 'Tomato bread', 'Starters', 8)\n",
      "(5, 'Falafel', 'Starters', 7)\n",
      "(6, 'Hummus', 'Starters', 5)\n",
      "(7, 'Greek salad', 'Main Courses', 15)\n",
      "(8, 'Bean soup', 'Main Courses', 12)\n",
      "(9, 'Pizza', 'Main Courses', 15)\n",
      "(10, 'Greek yoghurt', 'Desserts', 7)\n",
      "(11, 'Ice cream', 'Desserts', 6)\n",
      "(12, 'Cheesecake', 'Desserts', 4)\n",
      "(13, 'Athens White wine', 'Drinks', 25)\n",
      "(14, 'Corfu Red Wine', 'Drinks', 30)\n",
      "(15, 'Turkish Coffee', 'Drinks', 10)\n",
      "(16, 'Turkish Coffee', 'Drinks', 10)\n",
      "(17, 'Kabasa', 'Main Courses', 17)\n"
     ]
    }
   ],
   "source": [
    "cursor.execute(\"select * from MenuItems\")\n",
    "results = cursor.fetchall()\n",
    "for result in results:\n",
    "    print(result)"
   ]
  },
  {
   "cell_type": "code",
   "execution_count": 31,
   "metadata": {},
   "outputs": [
    {
     "name": "stdout",
     "output_type": "stream",
     "text": [
      "Inserting data in Menus table\n",
      "Total row inserted 12\n"
     ]
    }
   ],
   "source": [
    "insert_menu=\"\"\"\n",
    "INSERT INTO Menus (MenuID, ItemID, Cuisine)\n",
    "VALUES\n",
    "(1, 1, 'Greek'),\n",
    "(1, 7, 'Greek'),\n",
    "(1, 10, 'Greek'),\n",
    "(1, 13, 'Greek'),\n",
    "(2, 3, 'Italian'),\n",
    "(2, 9, 'Italian'),\n",
    "(2, 12, 'Italian'),\n",
    "(2, 15, 'Italian'),\n",
    "(3, 5, 'Turkish'),\n",
    "(3, 17, 'Turkish'),\n",
    "(3, 11, 'Turkish'),\n",
    "(3, 16, 'Turkish');\"\"\"\n",
    "print(\"Inserting data in Menus table\")\n",
    "cursor.execute(insert_menu)\n",
    "print(\"Total row inserted\",cursor.rowcount)\n",
    "connection.commit()\n"
   ]
  },
  {
   "cell_type": "code",
   "execution_count": 32,
   "metadata": {},
   "outputs": [
    {
     "name": "stdout",
     "output_type": "stream",
     "text": [
      "Insert data in Orders Table\n",
      "Total rows inserted 5\n"
     ]
    }
   ],
   "source": [
    "##Orders Table\n",
    "insert_orders=\"\"\"\n",
    "INSERT INTO Orders (OrderID, TableNo, MenuID, BookingID, Quantity, BillAmount)\n",
    "VALUES\n",
    "(1, 12, 1, 1, 2, 86),\n",
    "(2, 19, 2, 2, 1, 37),\n",
    "(3, 15, 2, 3, 1, 37),\n",
    "(4, 5, 3, 4, 1, 40),\n",
    "(5, 8, 1, 5, 1, 43);\"\"\"\n",
    "print(\"Insert data in Orders Table\")\n",
    "cursor.execute(insert_orders)\n",
    "print(\"Total rows inserted\",cursor.rowcount)\n",
    "connection.commit()"
   ]
  },
  {
   "cell_type": "code",
   "execution_count": 45,
   "metadata": {},
   "outputs": [
    {
     "name": "stdout",
     "output_type": "stream",
     "text": [
      "('GuestFirstName', 'GuestLastName', 'TableNo')\n",
      "('Anna', 'Iversen', 12)\n",
      "('Joakim', 'Iversen', 12)\n",
      "('Vanessa', 'McCarthy', 19)\n",
      "('Marco\\ns', 'Romero', 15)\n",
      "('Hiroki', 'Yamane', 5)\n",
      "('Diana', 'Pinto', 8)\n"
     ]
    }
   ],
   "source": [
    "##Task Two :In the first task, you created tables to hold the restaurant’s data. Now Little Lemon requires you to retrieve the following data for each guest:\n",
    "\n",
    "##Guest first and last names.\n",
    "\n",
    "##The table number assigned to each guest.\n",
    "\n",
    "guests_data  =\"\"\"SELECT GuestFirstName, GuestLastName, TableNo FROM Bookings\"\"\" \n",
    "cursor.execute(guests_data)\n",
    "results = cursor.fetchall()\n",
    "\n",
    "##retrieving the columns\n",
    "cols = cursor.column_names\n",
    "print(cols)\n",
    "for result in results:\n",
    "    print(result)"
   ]
  },
  {
   "cell_type": "code",
   "execution_count": 46,
   "metadata": {},
   "outputs": [
    {
     "name": "stdout",
     "output_type": "stream",
     "text": [
      "('MenuId', 'ItemID', 'Cuisine')\n",
      "(1, 1, 'Greek')\n",
      "(1, 7, 'Greek')\n",
      "(1, 10, 'Greek')\n"
     ]
    }
   ],
   "source": [
    "# Task 3:\n",
    "\n",
    "# Little Lemon’s queries are returning large volumes of data. They need to find a way to return the data in smaller, more manageable chunks. Let’s see if you can help them to return just the first three items from the menu. In other words, return the first three items from the cursor. Complete this task using the following steps:\n",
    "\n",
    "little_data = \"\"\"SELECT * FROM Menus;\"\"\"\n",
    "cursor.execute(little_data)\n",
    "results = cursor.fetchmany(size =3)\n",
    "cols  =cursor.column_names\n",
    "print(cols)\n",
    "for result in results:\n",
    "    print(result)"
   ]
  },
  {
   "cell_type": "code",
   "execution_count": 53,
   "metadata": {},
   "outputs": [
    {
     "name": "stdout",
     "output_type": "stream",
     "text": [
      "('MenuId', 'ItemID', 'Cuisine')\n",
      "(1, 1, 'Greek')\n",
      "(1, 7, 'Greek')\n",
      "(1, 10, 'Greek')\n"
     ]
    }
   ],
   "source": [
    "little_data = \"\"\"SELECT * FROM Menus;\"\"\"\n",
    "cursor.execute(little_data)\n",
    "results = cursor.fetchmany(size=3)\n",
    "cols  =cursor.column_names\n",
    "print(cols)\n",
    "for result in results:\n",
    "    print(result)"
   ]
  }
 ],
 "metadata": {
  "interpreter": {
   "hash": "c6e4e9f98eb68ad3b7c296f83d20e6de614cb42e90992a65aa266555a3137d0d"
  },
  "kernelspec": {
   "display_name": "Python 3.9.7 ('base')",
   "language": "python",
   "name": "python3"
  },
  "language_info": {
   "codemirror_mode": {
    "name": "ipython",
    "version": 3
   },
   "file_extension": ".py",
   "mimetype": "text/x-python",
   "name": "python",
   "nbconvert_exporter": "python",
   "pygments_lexer": "ipython3",
   "version": "3.9.7"
  },
  "orig_nbformat": 4
 },
 "nbformat": 4,
 "nbformat_minor": 2
}

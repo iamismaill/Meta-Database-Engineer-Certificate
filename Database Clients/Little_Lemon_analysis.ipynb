{
 "cells": [
  {
   "cell_type": "code",
   "execution_count": 45,
   "metadata": {},
   "outputs": [
    {
     "name": "stdout",
     "output_type": "stream",
     "text": [
      "Successfully Connected\n"
     ]
    }
   ],
   "source": [
    "##connection \n",
    "import mysql.connector as conn \n",
    "username = 'root'\n",
    "password = 'Newvision@143'\n",
    "database = ''\n",
    "try :\n",
    "    connection = conn.connect(username =username,password=password,database =database)\n",
    "    print(\"Successfully Connected\")\n",
    "except conn.Error as er :\n",
    "    if er.errno == 1045:\n",
    "        print(f'Access denied for user {username}')\n",
    "    elif er.errno == 1049:\n",
    "        print(f\"Unknown database {database}\")\n",
    "    else :\n",
    "        print(er)\n",
    "     "
   ]
  },
  {
   "cell_type": "code",
   "execution_count": 46,
   "metadata": {},
   "outputs": [],
   "source": [
    "cursor = connection.cursor()"
   ]
  },
  {
   "cell_type": "code",
   "execution_count": 48,
   "metadata": {},
   "outputs": [],
   "source": [
    "##use database\n",
    "use_database ='use litte_lemon_store '\n",
    "cursor.execute(use_database)"
   ]
  },
  {
   "cell_type": "markdown",
   "metadata": {},
   "source": [
    "Task 1"
   ]
  },
  {
   "cell_type": "code",
   "execution_count": 27,
   "metadata": {},
   "outputs": [
    {
     "name": "stdout",
     "output_type": "stream",
     "text": [
      "Connection pool 'pool_b' created successfully.\n"
     ]
    }
   ],
   "source": [
    "from mysql.connector.pooling import MySQLConnectionPool\n",
    "dbconfig = {\n",
    "    \"database\": \"litte_lemon_store\",\n",
    "    \"user\": \"root\",\n",
    "    \"password\": \"Newvision@143\"\n",
    "}\n",
    "\n",
    "try:\n",
    "    \n",
    "    pool_b = MySQLConnectionPool(pool_name=\"pool_b\", pool_size=2, **dbconfig)\n",
    "    print(\"Connection pool 'pool_b' created successfully.\")\n",
    "\n",
    "except conn.Error as e:\n",
    "    print(\"Error:\", e)\n"
   ]
  },
  {
   "cell_type": "markdown",
   "metadata": {},
   "source": [
    "Task 2"
   ]
  },
  {
   "cell_type": "code",
   "execution_count": 19,
   "metadata": {},
   "outputs": [
    {
     "name": "stdout",
     "output_type": "stream",
     "text": [
      "Connection 1 closed.\n",
      "Connection 2 closed.\n",
      "Connection 3 closed.\n"
     ]
    }
   ],
   "source": [
    "\n",
    "\n",
    "try:\n",
    "    # Establish a connection pool [pool_name = pool_b] with two connections\n",
    "    pool_b = MySQLConnectionPool(pool_name=\"pool_b\", pool_size=4, **dbconfig)\n",
    "\n",
    "    # Connect the first guest\n",
    "    connection1 = pool_b.get_connection()\n",
    "    cursor1 = connection1.cursor()\n",
    "\n",
    "    # Insert data for Guest 1\n",
    "    guest1_data = {\n",
    "        \"table_number\": 8,\n",
    "        \"first_name\": \"Anees\",\n",
    "        \"last_name\": \"Java\",\n",
    "        \"booking_time\": \"18:00\",\n",
    "        \"employee_id\": 6\n",
    "    }\n",
    "    insert_query1 = \"INSERT INTO Bookings (TableNo, GuestFirstName, GuestLastName, BookingSlot, EmployeeID) VALUES (%(table_number)s, %(first_name)s, %(last_name)s, %(booking_time)s, %(employee_id)s)\"\n",
    "    cursor1.execute(insert_query1, guest1_data)\n",
    "    connection1.commit()\n",
    "\n",
    "    # Connect the second guest\n",
    "    connection2 = pool_b.get_connection()\n",
    "    cursor2 = connection2.cursor()\n",
    "\n",
    "    # Insert data for Guest 2\n",
    "    guest2_data = {\n",
    "        \"table_number\": 5,\n",
    "        \"first_name\": \"Bald\",\n",
    "        \"last_name\": \"Vin\",\n",
    "        \"booking_time\": \"19:00\",\n",
    "        \"employee_id\": 6\n",
    "    }\n",
    "    insert_query2 = \"INSERT INTO Bookings (TableNo, GuestFirstName, GuestLastName, BookingSlot, EmployeeID) VALUES (%(table_number)s, %(first_name)s, %(last_name)s, %(booking_time)s, %(employee_id)s)\"\n",
    "    cursor2.execute(insert_query2, guest2_data)\n",
    "    connection2.commit()\n",
    "\n",
    "    # Connect the third guest\n",
    "    try:\n",
    "        connection3 = pool_b.get_connection()\n",
    "        cursor3 = connection3.cursor()\n",
    "\n",
    "        # Insert data for Guest 3\n",
    "        guest3_data = {\n",
    "            \"table_number\": 12,\n",
    "            \"first_name\": \"Jay\",\n",
    "            \"last_name\": \"Kon\",\n",
    "            \"booking_time\": \"19:30\",\n",
    "            \"employee_id\": 6\n",
    "        }\n",
    "        insert_query3 = \"INSERT INTO Bookings (TableNo, GuestFirstName, GuestLastName, BookingSlot, EmployeeID) VALUES (%(table_number)s, %(first_name)s, %(last_name)s, %(booking_time)s, %(employee_id)s)\"\n",
    "        cursor3.execute(insert_query3, guest3_data)\n",
    "        connection3.commit()\n",
    "    \n",
    "    except Exception as e:\n",
    "        print(\"Error:\", e)\n",
    "        print(\"Could not connect the third guest.\")\n",
    "\n",
    "    # Task 2: Data inserted successfully for all three guests\n",
    "\n",
    "except conn.Error as e:\n",
    "    print(\"Error:\", e)\n",
    "\n",
    "finally:\n",
    "    # Return the connections back to the pool\n",
    "    if connection1.is_connected():\n",
    "        cursor1.close()\n",
    "        connection1.close()\n",
    "        print(\"Connection 1 closed.\")\n",
    "\n",
    "    if connection2.is_connected():\n",
    "        cursor2.close()\n",
    "        connection2.close()\n",
    "        print(\"Connection 2 closed.\")\n",
    "\n",
    "    if connection3.is_connected():\n",
    "        cursor3.close()\n",
    "        connection3.close()\n",
    "        print(\"Connection 3 closed.\")\n"
   ]
  },
  {
   "cell_type": "markdown",
   "metadata": {},
   "source": [
    "Task 3"
   ]
  },
  {
   "cell_type": "code",
   "execution_count": 21,
   "metadata": {},
   "outputs": [
    {
     "name": "stdout",
     "output_type": "stream",
     "text": [
      "Little Lemon manager:\n",
      "Name: Mario Gollini\n",
      "EmployeeID: 1\n",
      "\n",
      "Employee with the highest salary:\n",
      "Name: Mario Gollini\n",
      "Role: Manager\n",
      "\n",
      "Number of guests booked between 18:00 and 20:00: 11\n",
      "\n",
      "Error: 1054 (42S22): Unknown column 'Status' in 'where clause'\n",
      "Connection  closed.\n"
     ]
    }
   ],
   "source": [
    "try:\n",
    "    # Establish a connection pool [pool_name = pool_b] with two connections\n",
    "    pool_b = MySQLConnectionPool(pool_name=\"pool_b\", pool_size=2, **dbconfig)\n",
    "\n",
    "    # Connect to execute the queries\n",
    "    connection = pool_b.get_connection()\n",
    "    cursor = connection.cursor()\n",
    "\n",
    "    # Task 3: Generate the report\n",
    "\n",
    "    # The name and EmployeeID of the Little Lemon manager\n",
    "    manager_query = \"SELECT Name, EmployeeID FROM Employees WHERE Role = 'Manager'\"\n",
    "    cursor.execute(manager_query)\n",
    "    manager_result = cursor.fetchone()\n",
    "    manager_name, manager_employee_id = manager_result\n",
    "\n",
    "    print(\"Little Lemon manager:\")\n",
    "    print(\"Name:\", manager_name)\n",
    "    print(\"EmployeeID:\", manager_employee_id)\n",
    "    print()\n",
    "\n",
    "    # The name and role of the employee who receives the highest salary\n",
    "    highest_salary_query = \"SELECT Name, Role FROM Employees WHERE Annual_Salary = (SELECT MAX(Annual_Salary) FROM Employees)\"\n",
    "    cursor.execute(highest_salary_query)\n",
    "    highest_salary_result = cursor.fetchone()\n",
    "    highest_salary_name, highest_salary_role = highest_salary_result\n",
    "\n",
    "    print(\"Employee with the highest salary:\")\n",
    "    print(\"Name:\", highest_salary_name)\n",
    "    print(\"Role:\", highest_salary_role)\n",
    "    print()\n",
    "\n",
    "    # The number of guests booked between 18:00 and 20:00\n",
    "    guests_count_query = \"SELECT COUNT(*) FROM Bookings WHERE BookingSlot BETWEEN '18:00' AND '20:00'\"\n",
    "    cursor.execute(guests_count_query)\n",
    "    guests_count_result = cursor.fetchone()\n",
    "    guests_count = guests_count_result[0]\n",
    "\n",
    "    print(\"Number of guests booked between 18:00 and 20:00:\", guests_count)\n",
    "    print()\n",
    "\n",
    "    # The full name and BookingID of all guests waiting to be seated, sorted by BookingSlot\n",
    "    waiting_guests_query = \"SELECT CONCAT(GuestFirstName, ' ', GuestLastName) AS Full_Name, BookingID FROM Bookings WHERE Status = 'Waiting' ORDER BY BookingSlot\"\n",
    "    cursor.execute(waiting_guests_query)\n",
    "    waiting_guests_results = cursor.fetchall()\n",
    "\n",
    "    print(\"Guests waiting to be seated:\")\n",
    "    for waiting_guest in waiting_guests_results:\n",
    "        full_name, booking_id = waiting_guest\n",
    "        print(\"Full Name:\", full_name)\n",
    "        print(\"BookingID:\", booking_id)\n",
    "        print()\n",
    "\n",
    "except conn.Error as e:\n",
    "    print(\"Error:\", e)\n",
    "\n",
    "finally:\n",
    "    if connection.is_connected():\n",
    "        cursor.close()\n",
    "        connection.close()\n",
    "        print(\"Connection  closed.\")\n",
    "\n",
    "    \n"
   ]
  },
  {
   "cell_type": "code",
   "execution_count": 30,
   "metadata": {},
   "outputs": [],
   "source": [
    "##creating BasicSalesReport Proc\n",
    "stored_procedure = \"\"\"\n",
    "Create PROCEDURE BasicSalesReport()\n",
    "Begin \n",
    "SELECT SUM(BillAmount) AS TotalSales,AVG(BillAmount) AS AverageSale,MIN(BillAmount) AS MinimumBillPaid,MAX(BillAmount) AS MaximumBillPaid\n",
    "    FROM Orders;\n",
    "END\n",
    "\"\"\"\n",
    "cursor.execute(stored_procedure)"
   ]
  },
  {
   "cell_type": "code",
   "execution_count": 57,
   "metadata": {},
   "outputs": [
    {
     "name": "stdout",
     "output_type": "stream",
     "text": [
      "Basic Sales Report:\n",
      "Total Sales: 243\n",
      "Average Sale: 48.6000\n",
      "Minimum Bill Paid: 37\n",
      "Maximum Bill Paid: 86\n"
     ]
    }
   ],
   "source": [
    "try:\n",
    "    # Establish a connection pool [pool_name = pool_b] with two connections\n",
    "    pool_b = MySQLConnectionPool(pool_name=\"pool_b\", pool_size=2, **dbconfig)\n",
    "\n",
    "\n",
    "    connection = pool_b.get_connection()\n",
    "    cursor = connection.cursor()\n",
    "    cursor.callproc(\"BasicSalesReport\")\n",
    "\n",
    "    results = next(cursor.stored_results())\n",
    "    data = results.fetchall()\n",
    "\n",
    "    # Extract the values from the result\n",
    "    for data in data:\n",
    "         \n",
    "        print(\"Basic Sales Report:\")\n",
    "        print(\"Total Sales:\", data[0])\n",
    "        print(\"Average Sale:\", data[1])\n",
    "        print(\"Minimum Bill Paid:\", data[2])\n",
    "        print(\"Maximum Bill Paid:\", data[3])\n",
    "\n",
    "except conn.Error as e:\n",
    "    print(\"Error:\", e)\n",
    "\n",
    "finally:\n",
    "    # Return the connection back to the pool\n",
    "    if connection.is_connected():\n",
    "        cursor.close()\n",
    "        connection.close()\n"
   ]
  },
  {
   "cell_type": "markdown",
   "metadata": {},
   "source": [
    "Task Five"
   ]
  },
  {
   "cell_type": "code",
   "execution_count": 60,
   "metadata": {},
   "outputs": [
    {
     "name": "stdout",
     "output_type": "stream",
     "text": [
      "Next three upcoming bookings on the kitchen screen:\n",
      "[15:00:00]\n",
      "Vanessa McCarthy\n",
      "Assigned to: Giorgos Dioudis [Head Chef]\n",
      "\n",
      "[17:30:00]\n",
      "Marcos Romero\n",
      "Assigned to: Fatma Kaya [Assistant Chef]\n",
      "\n",
      "[18:00:00]\n",
      "Anees Java\n",
      "Assigned to: John Millar [Receptionist]\n",
      "\n"
     ]
    }
   ],
   "source": [
    "try:\n",
    "    # Establish a connection pool [pool_name = pool_b] with two connections\n",
    "    pool_b = MySQLConnectionPool(pool_name=\"pool_b\", pool_size=2, **dbconfig)\n",
    "\n",
    "    # Connect to execute the queries\n",
    "    connection = pool_b.get_connection()\n",
    "    cursor = connection.cursor(buffered=True)\n",
    "\n",
    "    # Task 5: Retrieve and display the next three upcoming bookings\n",
    "    query = \"\"\"\n",
    "        SELECT b.BookingSlot, CONCAT(b.GuestFirstName, ' ', b.GuestLastName) AS GuestName, CONCAT(e.Name, ' [', e.Role, ']') AS AssignedTo\n",
    "        FROM Bookings AS b\n",
    "        JOIN Employees AS e ON b.EmployeeID = e.EmployeeID\n",
    "        ORDER BY b.BookingSlot ASC\n",
    "        LIMIT 3\n",
    "    \"\"\"\n",
    "    cursor.execute(query)\n",
    "\n",
    "    print(\"Next three upcoming bookings on the kitchen screen:\")\n",
    "    for booking in cursor:\n",
    "        booking_slot, guest_name, assigned_to = booking\n",
    "        print(\"[{}]\".format(booking_slot))\n",
    "        print(guest_name)\n",
    "        print(\"Assigned to: {}\".format(assigned_to))\n",
    "        print()\n",
    "\n",
    "except conn.Error as e:\n",
    "    print(\"Error:\", e)\n",
    "\n",
    "finally:\n",
    "    # Return the connection back to the pool\n",
    "    if connection.is_connected():\n",
    "        cursor.close()\n",
    "        connection.close()\n"
   ]
  },
  {
   "cell_type": "code",
   "execution_count": 52,
   "metadata": {},
   "outputs": [
    {
     "name": "stdout",
     "output_type": "stream",
     "text": [
      "(Decimal('243'), Decimal('48.6000'), 37, 86)\n"
     ]
    }
   ],
   "source": [
    "cursor.callproc(\"BasicSalesReport\")\n",
    "results = next(cursor.stored_results())\n",
    "data = results.fetchall()\n",
    "for data in data:\n",
    "    print(data)"
   ]
  }
 ],
 "metadata": {
  "interpreter": {
   "hash": "c6e4e9f98eb68ad3b7c296f83d20e6de614cb42e90992a65aa266555a3137d0d"
  },
  "kernelspec": {
   "display_name": "Python 3.9.7 ('base')",
   "language": "python",
   "name": "python3"
  },
  "language_info": {
   "codemirror_mode": {
    "name": "ipython",
    "version": 3
   },
   "file_extension": ".py",
   "mimetype": "text/x-python",
   "name": "python",
   "nbconvert_exporter": "python",
   "pygments_lexer": "ipython3",
   "version": "3.9.7"
  },
  "orig_nbformat": 4
 },
 "nbformat": 4,
 "nbformat_minor": 2
}

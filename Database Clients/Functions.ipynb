{
 "cells": [
  {
   "cell_type": "code",
   "execution_count": 1,
   "metadata": {},
   "outputs": [
    {
     "name": "stdout",
     "output_type": "stream",
     "text": [
      "Successfully Connected\n"
     ]
    }
   ],
   "source": [
    "import mysql.connector as conn\n",
    "user_name = 'root'\n",
    "password = 'Newvision@143'\n",
    "try:\n",
    "    connection = conn.connect(username =user_name,password =password)\n",
    "    print(\"Successfully Connected\")\n",
    "except conn.Error as e:\n",
    "    print(e.errno)"
   ]
  },
  {
   "cell_type": "code",
   "execution_count": 2,
   "metadata": {},
   "outputs": [],
   "source": [
    "cursor = connection.cursor()"
   ]
  },
  {
   "cell_type": "code",
   "execution_count": 3,
   "metadata": {},
   "outputs": [
    {
     "name": "stdout",
     "output_type": "stream",
     "text": [
      "('employees',)\n",
      "('information_schema',)\n",
      "('jewelrystore_db',)\n",
      "('mysql',)\n",
      "('Ourstore',)\n",
      "('performance_schema',)\n",
      "('sales',)\n",
      "('Shop',)\n",
      "('sys',)\n"
     ]
    }
   ],
   "source": [
    "##show datbase\n",
    "cursor.execute(\"show databases\")\n",
    "for d in cursor:\n",
    "    print(d)"
   ]
  },
  {
   "cell_type": "code",
   "execution_count": 4,
   "metadata": {},
   "outputs": [],
   "source": [
    "##use databse \n",
    "cursor.execute(\"use Ourstore\")"
   ]
  },
  {
   "cell_type": "markdown",
   "metadata": {},
   "source": [
    "Scenario: \n",
    "\n",
    "There are several occasions where Little Lemon needs to perform routine operations, some of them include, total sales, the total number of guests, the number of items in each cuisine, the full name of the guests, and so on. These are only a few examples and writing queries again and again for such routine tasks is not trivial. You can help Little Lemon to handle such tasks using MySQL functions in their python-based application. "
   ]
  },
  {
   "cell_type": "markdown",
   "metadata": {},
   "source": [
    "Task One\n",
    "\n",
    "Along with the booking ID, little lemon needs to add the full name of the guests in upper case on their invoices. Help little lemon to extract the data in the required format.  \n",
    "\n",
    "TIP: Target `GuestFistName`, `GuestLastName` and combine them to get `GuestFullName`.  "
   ]
  },
  {
   "cell_type": "code",
   "execution_count": 5,
   "metadata": {},
   "outputs": [
    {
     "name": "stdout",
     "output_type": "stream",
     "text": [
      "('BookingId', 'FullName')\n",
      "(1, 'ANNA IVERSEN')\n",
      "(2, 'JOAKIM IVERSEN')\n",
      "(3, 'VANESSA MCCARTHY')\n",
      "(4, 'MARCO\\nS ROMERO')\n",
      "(5, 'HIROKI YAMANE')\n",
      "(6, 'DIANA PINTO')\n"
     ]
    }
   ],
   "source": [
    "Query = \"\"\" select \n",
    "\tBookingId,\n",
    "    UPPER(Concat(GuestFirstName ,' ' ,GuestLastName)) as FullName\n",
    "from Bookings; \"\"\"\n",
    "cursor.execute(Query)\n",
    "cols = cursor.column_names\n",
    "print(cols)\n",
    "rows = cursor.fetchall()\n",
    "for row in rows:\n",
    "    print(row)"
   ]
  },
  {
   "cell_type": "markdown",
   "metadata": {},
   "source": [
    "Task 2:\n",
    "\n",
    "Little lemon needs to know the following statistics at closing: \n",
    "\n",
    "* Number of bookings \n",
    "* Total sale \n",
    "* Average sale \n",
    "\n",
    "Help little lemon to compute the required statistics from the data in the “Orders” table using python. \n",
    "\n",
    "**TIP:** Target “BookingID” and “BillAmount” columns in the “Orders” table and use MySQL built-in functions to compute the required statistics. Once, you grab the results, use the following python code to print the required output.  \n",
    "\n",
    "```Python\n",
    "print(\"Today's statistics:\") \n",
    "for result in results: \n",
    "    print(\"Number of bookings:\",result[0]) \n",
    "    print(\"Total sale:\",result[1]) \n",
    "    print(\"Averag"
   ]
  },
  {
   "cell_type": "code",
   "execution_count": 7,
   "metadata": {},
   "outputs": [
    {
     "name": "stdout",
     "output_type": "stream",
     "text": [
      "Number of bookings 5\n",
      "Total Sale 243\n",
      "Average sale 48.6000\n"
     ]
    }
   ],
   "source": [
    "Query = \"\"\" select \n",
    "\tcount(BookingID),sum(BillAmount),avg(BillAmount)\n",
    "from orders;\"\"\"\n",
    "cursor.execute(Query)\n",
    "\n",
    "rows = cursor.fetchall()\n",
    "for row in rows :\n",
    "    print(\"Number of bookings\",row[0])\n",
    "    print(\"Total Sale\",row[1])\n",
    "    print(\"Average sale\",row[2])"
   ]
  },
  {
   "cell_type": "markdown",
   "metadata": {},
   "source": [
    "Task 3:\n",
    "\n",
    "Little lemon needs to know the number of bookings for each table. Please help them to print the table number and the number of bookings for each table. \n",
    "\n",
    "TIP: Target TableNo column in the booking table, count the number of bookings for each table, and group the data. Print the results in descending order. "
   ]
  },
  {
   "cell_type": "code",
   "execution_count": 10,
   "metadata": {},
   "outputs": [
    {
     "name": "stdout",
     "output_type": "stream",
     "text": [
      "('TableNo', 'n_booking')\n",
      "(12, 2)\n",
      "(19, 1)\n",
      "(15, 1)\n",
      "(5, 1)\n",
      "(8, 1)\n"
     ]
    }
   ],
   "source": [
    "Query =\"\"\"select \n",
    "\tTableNo,count(BookingID) as n_booking\n",
    "from Bookings \n",
    "group by 1; \"\"\"\n",
    "cursor.execute(Query)\n",
    "cols = cursor.column_names\n",
    "print(cols)\n",
    "rows = cursor.fetchall()\n",
    "for row in rows:\n",
    "    print(row)"
   ]
  },
  {
   "cell_type": "markdown",
   "metadata": {},
   "source": [
    "Task Three\n",
    "\n",
    "Little lemon wants to create three arrival slots for the guests based on the booking hour:\n",
    "\n",
    "Late afternoon: for hours 15 and 16 \n",
    "\n",
    "Evening: for hours 17 and 18\n",
    "\n",
    "Night: for hours 19 and 20\n",
    "\n",
    "Help little lemon to create the above slots and display the booking ID, guest name, and arrival slot on the kitchen screen so that the staff can plan accordingly. "
   ]
  },
  {
   "cell_type": "code",
   "execution_count": 11,
   "metadata": {},
   "outputs": [
    {
     "name": "stdout",
     "output_type": "stream",
     "text": [
      "('BookingId', 'full_name', 'ArrivalSlot')\n",
      "(1, 'Anna Iversen', 'Night')\n",
      "(2, 'Joakim Iversen', 'Night')\n",
      "(3, 'Vanessa McCarthy', 'Late Afternoon')\n",
      "(4, 'Marco\\ns Romero', 'Evening')\n",
      "(5, 'Hiroki Yamane', 'Evening')\n",
      "(6, 'Diana Pinto', 'Night')\n"
     ]
    }
   ],
   "source": [
    "Query =\"\"\" Select \n",
    "\tBookingId,Concat(GuestFirstName,' ', GuestLastName) as full_name,\n",
    "    CASE \n",
    "\t\tWHEN HOUR(BookingSlot) in (15,16) THEN \"Late Afternoon\"\n",
    "        WHEN HOUR(BookingSlot) in(17,18) THEN \"Evening\"\n",
    "        WHEN Hour(BookingSlot) in (19,20) THEN \"Night\"\n",
    "\tELSE \"Time Not Available\"\n",
    "    END as ArrivalSlot\n",
    "from Bookings;\"\"\"\n",
    "cursor.execute(Query)\n",
    "cols = cursor.column_names\n",
    "print(cols)\n",
    "rows = cursor.fetchall()\n",
    "for row in rows:\n",
    "    print(row)"
   ]
  },
  {
   "cell_type": "markdown",
   "metadata": {},
   "source": [
    "Task Four\n",
    "Little Lemon wants to retrieve the number of bookings in each hour so that they can schedule their staff’s duties accordingly. Use the following steps as a guide to complete this task: \n",
    "\n",
    "Step 1: Target the BookingID and BookingSlot columns from the Bookings table. \n",
    "\n",
    "Step 2: Extract the hour from the BookingSlot column and count the bookings in each hour.\n",
    "\n",
    "Step 3: Group and order the data by hour. \n",
    "\n"
   ]
  },
  {
   "cell_type": "code",
   "execution_count": 12,
   "metadata": {},
   "outputs": [
    {
     "name": "stdout",
     "output_type": "stream",
     "text": [
      "Hour : 19,<<>> 2 Bookings\n",
      "Hour : 15,<<>> 1 Bookings\n",
      "Hour : 17,<<>> 1 Bookings\n",
      "Hour : 18,<<>> 1 Bookings\n",
      "Hour : 20,<<>> 1 Bookings\n"
     ]
    }
   ],
   "source": [
    "Query = \"\"\" select Count(BookingID),Hour(BookingSlot)\n",
    "from bookings\n",
    "group by 2; \"\"\"\n",
    "cursor.execute(Query)\n",
    "results = cursor.fetchall()\n",
    "\n",
    "for row in results:\n",
    "    print(f\"Hour : {row[1]},<<>> {row[0]} Bookings\")"
   ]
  },
  {
   "cell_type": "markdown",
   "metadata": {},
   "source": [
    "Task 5:\n",
    "\n",
    "Little Lemon needs to display the following information for their staff:\n",
    "\n",
    "Each guest’s table number,\n",
    "\n",
    "Each guest’s full name,\n",
    "\n",
    "And the expected arrival time in hours and minutes of each guest (e.g., 15 hours and 0 mins)."
   ]
  },
  {
   "cell_type": "code",
   "execution_count": 18,
   "metadata": {},
   "outputs": [],
   "source": [
    "import datetime as dtt"
   ]
  },
  {
   "cell_type": "code",
   "execution_count": 26,
   "metadata": {},
   "outputs": [
    {
     "name": "stdout",
     "output_type": "stream",
     "text": [
      "[Table no:] 12 >> Anna Iversen is expected to arrive at: 19 hrs and 0 mins\n",
      "[Table no:] 12 >> Joakim Iversen is expected to arrive at: 19 hrs and 0 mins\n",
      "[Table no:] 19 >> Vanessa McCarthy is expected to arrive at: 15 hrs and 0 mins\n",
      "[Table no:] 15 >> Marco\n",
      "s Romero is expected to arrive at: 17 hrs and 30 mins\n",
      "[Table no:] 5 >> Hiroki Yamane is expected to arrive at: 18 hrs and 30 mins\n",
      "[Table no:] 8 >> Diana Pinto is expected to arrive at: 20 hrs and 0 mins\n"
     ]
    }
   ],
   "source": [
    "Query = \"\"\" select TableNo, GuestFirstName, GuestLastName ,BookingSlot\n",
    "from Bookings; \"\"\"\n",
    "cursor.execute(Query)\n",
    "rows = cursor.fetchall()\n",
    "\n",
    "for row in rows: \n",
    "    time = str(row[3])\n",
    "    hour = dtt.datetime.strptime(time,'%H:%M:%S').hour\n",
    "    minute = dtt.datetime.strptime(time,'%H:%M:%S').minute\n",
    "    print(\"[Table no:]\",row[0],\">>\",row[1],row[2], \"is expected to arrive at:\", \n",
    "          hour,\"hrs and\", minute, \"mins\")\n",
    " "
   ]
  },
  {
   "cell_type": "markdown",
   "metadata": {},
   "source": [
    "Task 6\n",
    "\n",
    "A guest with booking ID 2 and table number 12 wants to change the arrival time by one hour. Help Little Lemon to make this change using Python in their application. Use the following steps as a guide to complete this task: \n",
    "\n",
    "* Target `BookingID`, `TableNo` and `BookingSlot` columns in the `Bookings` table.  \n",
    "* Add one hour in the “BookingSlot”.  \n",
    "* Use the `WHERE` clause on `TableNo` and `BookingID` columns.  "
   ]
  },
  {
   "cell_type": "code",
   "execution_count": 28,
   "metadata": {},
   "outputs": [],
   "source": [
    "update_Query = \"\"\"\n",
    "UPDATE Bookings \n",
    "SET BookingSlot=ADDTIME(BookingSlot,\"1:00:00\") \n",
    "WHERE BookingID=2;\n",
    "\"\"\"\n",
    "cursor.execute(update_Query)\n",
    "connection.commit()"
   ]
  },
  {
   "cell_type": "code",
   "execution_count": 30,
   "metadata": {},
   "outputs": [
    {
     "name": "stdout",
     "output_type": "stream",
     "text": [
      "Booking time change ALERT!!\n",
      "Booking ID : 2\n",
      "Table No 12\n",
      "Booked Slot 21:00:00\n",
      "New Arrival Time 22:00:00\n"
     ]
    }
   ],
   "source": [
    "retrieve_query =\"\"\"\n",
    "SELECT \n",
    "BookingID, \n",
    "TableNo, \n",
    "BookingSlot, \n",
    "ADDTIME(BookingSlot,\"1:00:00\") as NewTime \n",
    "FROM Bookings\n",
    "WHERE TableNo = 12 AND BookingID = 2; \"\"\"\n",
    "cursor.execute(retrieve_query)\n",
    "rows = cursor.fetchall()\n",
    "\n",
    "for row in rows:\n",
    "    print(\"Booking time change ALERT!!\")\n",
    "    print(f\"Booking ID : {row[0]}\")\n",
    "    print(f\"Table No {row[1]}\")\n",
    "    print(f\"Booked Slot {row[2]}\")\n",
    "    print(f\"New Arrival Time {row[3]}\")\n",
    "    "
   ]
  },
  {
   "cell_type": "code",
   "execution_count": null,
   "metadata": {},
   "outputs": [],
   "source": []
  }
 ],
 "metadata": {
  "interpreter": {
   "hash": "c6e4e9f98eb68ad3b7c296f83d20e6de614cb42e90992a65aa266555a3137d0d"
  },
  "kernelspec": {
   "display_name": "Python 3.9.7 ('base')",
   "language": "python",
   "name": "python3"
  },
  "language_info": {
   "codemirror_mode": {
    "name": "ipython",
    "version": 3
   },
   "file_extension": ".py",
   "mimetype": "text/x-python",
   "name": "python",
   "nbconvert_exporter": "python",
   "pygments_lexer": "ipython3",
   "version": "3.9.7"
  },
  "orig_nbformat": 4
 },
 "nbformat": 4,
 "nbformat_minor": 2
}

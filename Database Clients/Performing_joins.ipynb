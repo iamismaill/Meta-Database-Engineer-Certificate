{
 "cells": [
  {
   "cell_type": "code",
   "execution_count": 1,
   "metadata": {},
   "outputs": [
    {
     "name": "stdout",
     "output_type": "stream",
     "text": [
      "Connecteed Succesfully\n"
     ]
    }
   ],
   "source": [
    "import mysql.connector as conn\n",
    "username = 'root'\n",
    "password ='Newvision@143'\n",
    "database ='a'\n",
    "try :\n",
    "    \n",
    "    connection = conn.connect(username=username,password= password)\n",
    "    print(\"Connecteed Succesfully\")\n",
    "except conn.Error as e :\n",
    "    if e.errno == 1045:\n",
    "        print(f\"Access Denied {username}\")\n",
    "    elif e.errno == 1049:\n",
    "        print(f\"Unknown database {database}\")\n",
    "    else:\n",
    "        print(e.errno)\n",
    " "
   ]
  },
  {
   "cell_type": "code",
   "execution_count": 2,
   "metadata": {},
   "outputs": [],
   "source": [
    "cursor = connection.cursor()"
   ]
  },
  {
   "cell_type": "code",
   "execution_count": 3,
   "metadata": {},
   "outputs": [
    {
     "name": "stdout",
     "output_type": "stream",
     "text": [
      "('employees',)\n",
      "('information_schema',)\n",
      "('jewelrystore_db',)\n",
      "('mysql',)\n",
      "('Ourstore',)\n",
      "('performance_schema',)\n",
      "('sales',)\n",
      "('Shop',)\n",
      "('sys',)\n"
     ]
    }
   ],
   "source": [
    "##show databases\n",
    "cursor.execute(\"show databases\")\n",
    "for datbase in cursor:\n",
    "    print(datbase)"
   ]
  },
  {
   "cell_type": "code",
   "execution_count": 5,
   "metadata": {},
   "outputs": [],
   "source": [
    "##use database\n",
    "cursor.execute(\"use Ourstore\" )"
   ]
  },
  {
   "cell_type": "markdown",
   "metadata": {},
   "source": [
    "Task 1:\n",
    "\n",
    "Little Lemon needs the following information for each of the items on their menu:\n",
    "\n",
    "The name of each item in the menu,\n",
    "\n",
    "Each menu item’s type,\n",
    "\n",
    "Each menu item’s cuisine,\n",
    "\n",
    "and the price of each item in the menu."
   ]
  },
  {
   "cell_type": "code",
   "execution_count": 7,
   "metadata": {},
   "outputs": [
    {
     "name": "stdout",
     "output_type": "stream",
     "text": [
      "('Item_Name', 'Item_Type', 'Cuisine', 'Price')\n",
      "('Olives', 'Starters', 'Greek', 5)\n",
      "('Greek salad', 'Main Courses', 'Greek', 15)\n",
      "('Greek yoghurt', 'Desserts', 'Greek', 7)\n",
      "('Athens White wine', 'Drinks', 'Greek', 25)\n",
      "('Minestrone', 'Starters', 'Italian', 8)\n",
      "('Pizza', 'Main Courses', 'Italian', 15)\n",
      "('Cheesecake', 'Desserts', 'Italian', 4)\n",
      "('Turkish Coffee', 'Drinks', 'Italian', 10)\n",
      "('Falafel', 'Starters', 'Turkish', 7)\n",
      "('Ice cream', 'Desserts', 'Turkish', 6)\n",
      "('Turkish Coffee', 'Drinks', 'Turkish', 10)\n",
      "('Kabasa', 'Main Courses', 'Turkish', 17)\n"
     ]
    }
   ],
   "source": [
    "Query =\"\"\"SELECT \n",
    "MenuItems.Name AS Item_Name, \n",
    "MenuItems.Type AS Item_Type, \n",
    "Menus.Cuisine AS Cuisine, \n",
    "MenuItems.Price AS Price \n",
    "FROM MenuItems \n",
    "INNER JOIN Menus ON MenuItems.ItemID=Menus.ItemID; \"\"\"\n",
    "cursor.execute(Query)\n",
    "rows = cursor.fetchall()\n",
    "col = cursor.column_names\n",
    "print(col)\n",
    "for row in rows:\n",
    "    print(row)"
   ]
  },
  {
   "cell_type": "markdown",
   "metadata": {},
   "source": [
    "Task 2\n",
    "\n",
    "Little Lemon notice that there are several menu items missing from the output of the previous task. \n",
    "\n",
    "Help Little Lemon to identify these missing items by using a `JOIN` operation in Python to return data for the missing records. \n",
    "\n",
    "\n"
   ]
  },
  {
   "cell_type": "code",
   "execution_count": 8,
   "metadata": {},
   "outputs": [
    {
     "name": "stdout",
     "output_type": "stream",
     "text": [
      "('Item_Name', 'Item_Type', 'Cuisine', 'Price')\n",
      "('Flatbread', 'Starters', None, 5)\n",
      "('Tomato bread', 'Starters', None, 8)\n",
      "('Hummus', 'Starters', None, 5)\n",
      "('Bean soup', 'Main Courses', None, 12)\n",
      "('Corfu Red Wine', 'Drinks', None, 30)\n"
     ]
    }
   ],
   "source": [
    "Query=\"\"\"SELECT \n",
    "MenuItems.Name AS Item_Name, \n",
    "MenuItems.Type AS Item_Type, \n",
    "Menus.Cuisine AS Cuisine, \n",
    "MenuItems.Price AS Price \n",
    "FROM MenuItems \n",
    "LEFT JOIN Menus ON MenuItems.ItemID=Menus.ItemID\n",
    "WHERE Cuisine IS NULL;\"\"\"\n",
    "cursor.execute(Query)\n",
    "rows = cursor.fetchall()\n",
    "cols = cursor.column_names\n",
    "print(cols)\n",
    "for row in rows:\n",
    "    print(row)"
   ]
  },
  {
   "cell_type": "markdown",
   "metadata": {},
   "source": [
    "Task 3:\n",
    "\n",
    "Little Lemon restaurant need you to help them retrieve the following information from the `Bookings` and the `Orders` tables in their MySQL database using Python: \n",
    "\n",
    "* Booking ID \n",
    "* Table number \n",
    "* Guest first name \n",
    "* Server ID \n",
    "* Bill amount  "
   ]
  },
  {
   "cell_type": "code",
   "execution_count": 9,
   "metadata": {},
   "outputs": [
    {
     "name": "stdout",
     "output_type": "stream",
     "text": [
      "('BookingID', 'TableNo', 'GuestFirstName', 'ServerID', 'BillAmount')\n",
      "(1, 12, 'Anna', 1, 86)\n",
      "(2, 12, 'Joakim', 1, 37)\n",
      "(3, 19, 'Vanessa', 3, 37)\n",
      "(4, 15, 'Marco\\ns', 4, 40)\n",
      "(5, 5, 'Hiroki', 2, 43)\n",
      "(6, 8, 'Diana', 5, None)\n"
     ]
    }
   ],
   "source": [
    "Query=\"\"\"SELECT \n",
    "Bookings.BookingID,\n",
    "Bookings.TableNo,\n",
    "Bookings.GuestFirstName,\n",
    "Bookings.EmployeeID AS ServerID,\n",
    "Orders.BillAmount\n",
    "FROM Bookings\n",
    "LEFT JOIN Orders ON Bookings.BookingID = Orders.BookingID;\n",
    "\"\"\"\n",
    "cursor.execute(Query)\n",
    "results = cursor.fetchall()\n",
    "cols  =cursor.column_names\n",
    "print(cols)\n",
    "for row in results:\n",
    "    print(row)"
   ]
  },
  {
   "cell_type": "code",
   "execution_count": null,
   "metadata": {},
   "outputs": [],
   "source": []
  }
 ],
 "metadata": {
  "interpreter": {
   "hash": "c6e4e9f98eb68ad3b7c296f83d20e6de614cb42e90992a65aa266555a3137d0d"
  },
  "kernelspec": {
   "display_name": "Python 3.9.7 ('base')",
   "language": "python",
   "name": "python3"
  },
  "language_info": {
   "codemirror_mode": {
    "name": "ipython",
    "version": 3
   },
   "file_extension": ".py",
   "mimetype": "text/x-python",
   "name": "python",
   "nbconvert_exporter": "python",
   "pygments_lexer": "ipython3",
   "version": "3.9.7"
  },
  "orig_nbformat": 4
 },
 "nbformat": 4,
 "nbformat_minor": 2
}

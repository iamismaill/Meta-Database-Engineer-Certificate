{
 "cells": [
  {
   "cell_type": "code",
   "execution_count": 8,
   "id": "88332c43",
   "metadata": {},
   "outputs": [
    {
     "name": "stdout",
     "output_type": "stream",
     "text": [
      "Connecteed Succesfully\n"
     ]
    }
   ],
   "source": [
    "import mysql.connector as conn\n",
    "username = 'root'\n",
    "password ='Newvision@143'\n",
    "database ='a'\n",
    "try :\n",
    "    \n",
    "    connection = conn.connect(username=username,password= password)\n",
    "    print(\"Connecteed Succesfully\")\n",
    "except conn.Error as e :\n",
    "    if e.errno == 1045:\n",
    "        print(f\"Access Denied {username}\")\n",
    "    elif e.errno == 1049:\n",
    "        print(f\"Unknown database {database}\")\n",
    "    else:\n",
    "        print(e.errno)\n",
    " "
   ]
  },
  {
   "cell_type": "code",
   "execution_count": 9,
   "id": "27fc5638",
   "metadata": {},
   "outputs": [],
   "source": [
    "cursor = connection.cursor()"
   ]
  },
  {
   "cell_type": "code",
   "execution_count": 10,
   "id": "5ad85fdd",
   "metadata": {},
   "outputs": [],
   "source": [
    "Use_Databse = \"use Ourstore\"\n",
    "cursor.execute(Use_Databse)"
   ]
  },
  {
   "cell_type": "code",
   "execution_count": 11,
   "id": "dc8c460c",
   "metadata": {},
   "outputs": [
    {
     "name": "stdout",
     "output_type": "stream",
     "text": [
      "('Bookings',)\n",
      "('Menuitems',)\n",
      "('Menus',)\n",
      "('Orders',)\n"
     ]
    }
   ],
   "source": [
    "##show tables\n",
    "Show_Tables = \"show tables\"\n",
    "cursor.execute(Show_Tables)\n",
    "for tables in cursor:\n",
    "    print(tables)"
   ]
  },
  {
   "cell_type": "code",
   "execution_count": null,
   "id": "7e0bbf41",
   "metadata": {},
   "outputs": [],
   "source": []
  }
 ],
 "metadata": {
  "kernelspec": {
   "display_name": "Python 3.9.7 64-bit ('base': conda)",
   "language": "python",
   "name": "python397jvsc74a57bd0c6e4e9f98eb68ad3b7c296f83d20e6de614cb42e90992a65aa266555a3137d0d"
  },
  "language_info": {
   "codemirror_mode": {
    "name": "ipython",
    "version": 3
   },
   "file_extension": ".py",
   "mimetype": "text/x-python",
   "name": "python",
   "nbconvert_exporter": "python",
   "pygments_lexer": "ipython3",
   "version": "3.9.7"
  }
 },
 "nbformat": 4,
 "nbformat_minor": 5
}
